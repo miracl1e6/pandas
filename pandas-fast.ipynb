{
 "cells": [
  {
   "cell_type": "code",
   "execution_count": 1,
   "id": "b6e4e53c",
   "metadata": {},
   "outputs": [],
   "source": [
    "import pandas as pd\n",
    "import numpy as np\n",
    "import seaborn as sns\n",
    "import matplotlib.pyplot as plt\n",
    "\n",
    "import perfplot"
   ]
  },
  {
   "cell_type": "code",
   "execution_count": 2,
   "id": "051129c8",
   "metadata": {},
   "outputs": [],
   "source": [
    "def get_dataset(size: int) -> pd.DataFrame:\n",
    "    \"\"\"Create fake dataset with BMW\"\"\"\n",
    "    \n",
    "    data = pd.DataFrame()\n",
    "    data['model'] = np.random.choice(\n",
    "        ['BMW 520i', 'BMW 316i', 'BMW 318i', 'BMW M50d'], size)\n",
    "    data['fuel'] = np.random.choice(['бензин', 'дизель', 'гибрид'], size)\n",
    "    data['production_date'] = np.random.randint(1990, 2024, size)\n",
    "    data['transmission'] = np.random.choice(\n",
    "        ['механическая', 'автоматическая', 'роботизированная'], size)\n",
    "    data['engine_power'] = np.random.randint(129, 609, size)\n",
    "    data['price'] = np.random.uniform(60000., 12460000, size)\n",
    "    data['count'] = np.random.randint(1, 30, size)\n",
    "    return data"
   ]
  },
  {
   "cell_type": "code",
   "execution_count": 3,
   "id": "b1112edc",
   "metadata": {},
   "outputs": [],
   "source": [
    "SIZE = 5_000\n",
    "df = get_dataset(SIZE)"
   ]
  },
  {
   "cell_type": "code",
   "execution_count": 4,
   "id": "9745087e",
   "metadata": {
    "scrolled": true
   },
   "outputs": [
    {
     "name": "stdout",
     "output_type": "stream",
     "text": [
      "<class 'pandas.core.frame.DataFrame'>\n",
      "RangeIndex: 5000 entries, 0 to 4999\n",
      "Data columns (total 7 columns):\n",
      " #   Column           Non-Null Count  Dtype  \n",
      "---  ------           --------------  -----  \n",
      " 0   model            5000 non-null   object \n",
      " 1   fuel             5000 non-null   object \n",
      " 2   production_date  5000 non-null   int64  \n",
      " 3   transmission     5000 non-null   object \n",
      " 4   engine_power     5000 non-null   int64  \n",
      " 5   price            5000 non-null   float64\n",
      " 6   count            5000 non-null   int64  \n",
      "dtypes: float64(1), int64(3), object(3)\n",
      "memory usage: 273.6+ KB\n"
     ]
    }
   ],
   "source": [
    "df.info()"
   ]
  },
  {
   "cell_type": "code",
   "execution_count": 5,
   "id": "05c5f6a2",
   "metadata": {},
   "outputs": [
    {
     "data": {
      "text/html": [
       "<div>\n",
       "<style scoped>\n",
       "    .dataframe tbody tr th:only-of-type {\n",
       "        vertical-align: middle;\n",
       "    }\n",
       "\n",
       "    .dataframe tbody tr th {\n",
       "        vertical-align: top;\n",
       "    }\n",
       "\n",
       "    .dataframe thead th {\n",
       "        text-align: right;\n",
       "    }\n",
       "</style>\n",
       "<table border=\"1\" class=\"dataframe\">\n",
       "  <thead>\n",
       "    <tr style=\"text-align: right;\">\n",
       "      <th></th>\n",
       "      <th>model</th>\n",
       "      <th>fuel</th>\n",
       "      <th>production_date</th>\n",
       "      <th>transmission</th>\n",
       "      <th>engine_power</th>\n",
       "      <th>price</th>\n",
       "      <th>count</th>\n",
       "    </tr>\n",
       "  </thead>\n",
       "  <tbody>\n",
       "    <tr>\n",
       "      <th>0</th>\n",
       "      <td>BMW M50d</td>\n",
       "      <td>бензин</td>\n",
       "      <td>1991</td>\n",
       "      <td>автоматическая</td>\n",
       "      <td>473</td>\n",
       "      <td>1.098310e+07</td>\n",
       "      <td>11</td>\n",
       "    </tr>\n",
       "    <tr>\n",
       "      <th>1</th>\n",
       "      <td>BMW 318i</td>\n",
       "      <td>бензин</td>\n",
       "      <td>2004</td>\n",
       "      <td>механическая</td>\n",
       "      <td>179</td>\n",
       "      <td>7.427934e+06</td>\n",
       "      <td>8</td>\n",
       "    </tr>\n",
       "    <tr>\n",
       "      <th>2</th>\n",
       "      <td>BMW M50d</td>\n",
       "      <td>бензин</td>\n",
       "      <td>2013</td>\n",
       "      <td>механическая</td>\n",
       "      <td>272</td>\n",
       "      <td>3.798975e+06</td>\n",
       "      <td>18</td>\n",
       "    </tr>\n",
       "  </tbody>\n",
       "</table>\n",
       "</div>"
      ],
      "text/plain": [
       "      model    fuel  production_date    transmission  engine_power  \\\n",
       "0  BMW M50d  бензин             1991  автоматическая           473   \n",
       "1  BMW 318i  бензин             2004    механическая           179   \n",
       "2  BMW M50d  бензин             2013    механическая           272   \n",
       "\n",
       "          price  count  \n",
       "0  1.098310e+07     11  \n",
       "1  7.427934e+06      8  \n",
       "2  3.798975e+06     18  "
      ]
     },
     "execution_count": 5,
     "metadata": {},
     "output_type": "execute_result"
    }
   ],
   "source": [
    "df[:3]"
   ]
  },
  {
   "cell_type": "markdown",
   "id": "71c9c302",
   "metadata": {},
   "source": [
    "## Loops / apply / numpy / vectorize"
   ]
  },
  {
   "cell_type": "code",
   "execution_count": 6,
   "id": "07fcb036",
   "metadata": {},
   "outputs": [],
   "source": [
    "def prepare_flg_special_car(production_date: int, engine_power: int) -> int:\n",
    "    if ((production_date > 2020) & (engine_power > 400)):\n",
    "        return 1\n",
    "    elif ((production_date < 2020) & (engine_power == 300)):\n",
    "        return 2\n",
    "    return 3"
   ]
  },
  {
   "cell_type": "code",
   "execution_count": 7,
   "id": "4b0d09f3",
   "metadata": {},
   "outputs": [
    {
     "name": "stdout",
     "output_type": "stream",
     "text": [
      "1.74 s ± 121 ms per loop (mean ± std. dev. of 7 runs, 1 loop each)\n"
     ]
    }
   ],
   "source": [
    "%%timeit\n",
    "for index, row in df.iterrows():\n",
    "    df.loc[index, 'flg_special_car'] = prepare_flg_special_car(row['production_date'],\n",
    "                                                       row['engine_power'])"
   ]
  },
  {
   "cell_type": "code",
   "execution_count": 8,
   "id": "a85d9da5",
   "metadata": {},
   "outputs": [
    {
     "name": "stdout",
     "output_type": "stream",
     "text": [
      "96.5 ms ± 4.34 ms per loop (mean ± std. dev. of 7 runs, 10 loops each)\n"
     ]
    }
   ],
   "source": [
    "%%timeit\n",
    "df['flg_special_car'] = df.apply(\n",
    "    lambda x: prepare_flg_special_car(x['production_date'], x['engine_power']),\n",
    "    axis=1)"
   ]
  },
  {
   "cell_type": "code",
   "execution_count": 9,
   "id": "522c369f",
   "metadata": {},
   "outputs": [
    {
     "data": {
      "text/plain": [
       "18.031088082901555"
      ]
     },
     "execution_count": 9,
     "metadata": {},
     "output_type": "execute_result"
    }
   ],
   "source": [
    "1740 / 96.5"
   ]
  },
  {
   "cell_type": "markdown",
   "id": "d3f02bb4",
   "metadata": {},
   "source": [
    "vectorize принимает функцию и возвращает векторизованную версию функции"
   ]
  },
  {
   "cell_type": "code",
   "execution_count": 10,
   "id": "9238b3d2",
   "metadata": {
    "scrolled": true
   },
   "outputs": [
    {
     "name": "stdout",
     "output_type": "stream",
     "text": [
      "3.42 ms ± 535 µs per loop (mean ± std. dev. of 7 runs, 100 loops each)\n"
     ]
    }
   ],
   "source": [
    "%%timeit\n",
    "vector_prepare_flg_special_car = np.vectorize(prepare_flg_special_car)\n",
    "df['flg_special_car'] = vector_prepare_flg_special_car(df['production_date'],\n",
    "                                                       df['engine_power'])"
   ]
  },
  {
   "cell_type": "code",
   "execution_count": 12,
   "id": "a19ab31f",
   "metadata": {},
   "outputs": [
    {
     "data": {
      "text/plain": [
       "28.216374269005847"
      ]
     },
     "execution_count": 12,
     "metadata": {},
     "output_type": "execute_result"
    }
   ],
   "source": [
    "96.5 / 3.42"
   ]
  },
  {
   "cell_type": "code",
   "execution_count": 13,
   "id": "1fd106c5",
   "metadata": {},
   "outputs": [
    {
     "name": "stdout",
     "output_type": "stream",
     "text": [
      "1.88 ms ± 143 µs per loop (mean ± std. dev. of 7 runs, 100 loops each)\n"
     ]
    }
   ],
   "source": [
    "%%timeit\n",
    "df['flg_special_car'] = 3\n",
    "df.loc[((df['production_date'] > 2020) & (df['engine_power'] > 400)),\n",
    "       'flg_special_car'] = 1\n",
    "df.loc[((df['production_date'] < 2020) & (df['engine_power'] == 300)),\n",
    "       'flg_special_car'] = 2"
   ]
  },
  {
   "cell_type": "code",
   "execution_count": 14,
   "id": "3c12ac50",
   "metadata": {},
   "outputs": [
    {
     "data": {
      "text/plain": [
       "1.819148936170213"
      ]
     },
     "execution_count": 14,
     "metadata": {},
     "output_type": "execute_result"
    }
   ],
   "source": [
    "3.42 / 1.88"
   ]
  },
  {
   "cell_type": "code",
   "execution_count": 15,
   "id": "352b6794",
   "metadata": {},
   "outputs": [
    {
     "data": {
      "text/html": [
       "<div>\n",
       "<style scoped>\n",
       "    .dataframe tbody tr th:only-of-type {\n",
       "        vertical-align: middle;\n",
       "    }\n",
       "\n",
       "    .dataframe tbody tr th {\n",
       "        vertical-align: top;\n",
       "    }\n",
       "\n",
       "    .dataframe thead th {\n",
       "        text-align: right;\n",
       "    }\n",
       "</style>\n",
       "<table border=\"1\" class=\"dataframe\">\n",
       "  <thead>\n",
       "    <tr style=\"text-align: right;\">\n",
       "      <th></th>\n",
       "      <th>type</th>\n",
       "      <th>mean</th>\n",
       "    </tr>\n",
       "  </thead>\n",
       "  <tbody>\n",
       "    <tr>\n",
       "      <th>0</th>\n",
       "      <td>iterrows</td>\n",
       "      <td>1740.00</td>\n",
       "    </tr>\n",
       "    <tr>\n",
       "      <th>1</th>\n",
       "      <td>apply</td>\n",
       "      <td>96.50</td>\n",
       "    </tr>\n",
       "    <tr>\n",
       "      <th>2</th>\n",
       "      <td>vector_numpy</td>\n",
       "      <td>3.42</td>\n",
       "    </tr>\n",
       "    <tr>\n",
       "      <th>3</th>\n",
       "      <td>vector</td>\n",
       "      <td>1.88</td>\n",
       "    </tr>\n",
       "  </tbody>\n",
       "</table>\n",
       "</div>"
      ],
      "text/plain": [
       "           type     mean\n",
       "0      iterrows  1740.00\n",
       "1         apply    96.50\n",
       "2  vector_numpy     3.42\n",
       "3        vector     1.88"
      ]
     },
     "execution_count": 15,
     "metadata": {},
     "output_type": "execute_result"
    }
   ],
   "source": [
    "result_time = pd.DataFrame({\n",
    "    'type': ['iterrows', 'apply', 'vector_numpy', 'vector'],\n",
    "    'mean': [1740, 96.5, 3.42, 1.88]\n",
    "})\n",
    "result_time"
   ]
  },
  {
   "cell_type": "code",
   "execution_count": 16,
   "id": "eedc5b56",
   "metadata": {},
   "outputs": [
    {
     "data": {
      "text/plain": [
       "0      1.000000\n",
       "1     18.031088\n",
       "2    508.771930\n",
       "3    925.531915\n",
       "Name: mean, dtype: float64"
      ]
     },
     "execution_count": 16,
     "metadata": {},
     "output_type": "execute_result"
    }
   ],
   "source": [
    "result_time['mean'][0] / result_time['mean']"
   ]
  },
  {
   "cell_type": "code",
   "execution_count": 17,
   "id": "864b6358",
   "metadata": {},
   "outputs": [
    {
     "data": {
      "image/png": "[encoded data removed]",
      "text/plain": [
       "<Figure size 1080x360 with 1 Axes>"
      ]
     },
     "metadata": {
      "needs_background": "dark"
     },
     "output_type": "display_data"
    }
   ],
   "source": [
    "plt.figure(figsize=(15, 5))\n",
    "sns.barplot(data=result_time, y='type', x='mean', palette='viridis');"
   ]
  },
  {
   "cell_type": "code",
   "execution_count": 18,
   "id": "a83630d4",
   "metadata": {},
   "outputs": [],
   "source": [
    "def iterrows_check(df):\n",
    "    result = []\n",
    "    for index, row in df.iterrows():\n",
    "        result.append(\n",
    "            prepare_flg_special_car(row['production_date'],\n",
    "                                    row['engine_power']))\n",
    "    return result \n",
    "\n",
    "\n",
    "def apply_check(df):\n",
    "    return df.apply(lambda x: prepare_flg_special_car(x['production_date'], x[\n",
    "        'engine_power']),\n",
    "        axis=1).to_list()\n",
    "\n",
    "\n",
    "def vectorize_check(df):\n",
    "    vector_prepare_flg_special_car = np.vectorize(prepare_flg_special_car)\n",
    "    return vector_prepare_flg_special_car(df['production_date'],\n",
    "                                          df['engine_power'])\n",
    "\n",
    "\n",
    "def loc_check(df):\n",
    "    data = df.copy()\n",
    "    data['flg_special_car'] = 3\n",
    "    data.loc[((data['production_date'] > 2020) & (data['engine_power'] > 400)),\n",
    "           'flg_special_car'] = 1\n",
    "    data.loc[((data['production_date'] < 2020) & (data['engine_power'] == 300)),\n",
    "           'flg_special_car'] = 2\n",
    "    return list(data['flg_special_car'])"
   ]
  },
  {
   "cell_type": "code",
   "execution_count": 19,
   "id": "fc237a08",
   "metadata": {},
   "outputs": [
    {
     "data": {
      "application/vnd.jupyter.widget-view+json": {
       "model_id": "056cc181ed8b4081b7c4abd81faa65d4",
       "version_major": 2,
       "version_minor": 0
      },
      "text/plain": [
       "Output()"
      ]
     },
     "metadata": {},
     "output_type": "display_data"
    },
    {
     "data": {
      "text/html": [
       "<pre style=\"white-space:pre;overflow-x:auto;line-height:normal;font-family:Menlo,'DejaVu Sans Mono',consolas,'Courier New',monospace\"></pre>\n"
      ],
      "text/plain": []
     },
     "metadata": {},
     "output_type": "display_data"
    },
    {
     "data": {
      "text/html": [
       "<pre style=\"white-space:pre;overflow-x:auto;line-height:normal;font-family:Menlo,'DejaVu Sans Mono',consolas,'Courier New',monospace\">\n",
       "</pre>\n"
      ],
      "text/plain": [
       "\n"
      ]
     },
     "metadata": {},
     "output_type": "display_data"
    }
   ],
   "source": [
    "kernels = [iterrows_check, apply_check, vectorize_check, loc_check]\n",
    "\n",
    "vectorized_comparison = perfplot.bench(\n",
    "    setup=lambda n: get_dataset(n),\n",
    "    kernels=kernels,\n",
    "    labels=[str(k.__name__) for k in kernels],\n",
    "    n_range=[2**k for k in range(0, 24, 2)],\n",
    "    xlabel='n_rows')"
   ]
  },
  {
   "cell_type": "code",
   "execution_count": 20,
   "id": "c1a477ed",
   "metadata": {},
   "outputs": [
    {
     "data": {
      "image/png": "[encoded data removed]",
      "text/plain": [
       "<Figure size 432x288 with 1 Axes>"
      ]
     },
     "metadata": {
      "needs_background": "dark"
     },
     "output_type": "display_data"
    }
   ],
   "source": [
    "vectorized_comparison.plot(logx=False, logy=False)"
   ]
  },
  {
   "cell_type": "code",
   "execution_count": 21,
   "id": "e33c70a3",
   "metadata": {},
   "outputs": [
    {
     "data": {
      "image/png": "[encoded data removed]",
      "text/plain": [
       "<Figure size 432x288 with 1 Axes>"
      ]
     },
     "metadata": {
      "needs_background": "dark"
     },
     "output_type": "display_data"
    }
   ],
   "source": [
    "vectorized_comparison.plot(logx=True, logy=True, time_unit='s')\n",
    "plt.show()"
   ]
  },
  {
   "cell_type": "markdown",
   "id": "c44236e1",
   "metadata": {},
   "source": [
    "## Create bins"
   ]
  },
  {
   "cell_type": "code",
   "execution_count": 22,
   "id": "e04832da",
   "metadata": {},
   "outputs": [
    {
     "name": "stdout",
     "output_type": "stream",
     "text": [
      "<class 'pandas.core.frame.DataFrame'>\n",
      "RangeIndex: 5000 entries, 0 to 4999\n",
      "Data columns (total 8 columns):\n",
      " #   Column           Non-Null Count  Dtype  \n",
      "---  ------           --------------  -----  \n",
      " 0   model            5000 non-null   object \n",
      " 1   fuel             5000 non-null   object \n",
      " 2   production_date  5000 non-null   int64  \n",
      " 3   transmission     5000 non-null   object \n",
      " 4   engine_power     5000 non-null   int64  \n",
      " 5   price            5000 non-null   float64\n",
      " 6   count            5000 non-null   int64  \n",
      " 7   flg_special_car  5000 non-null   int64  \n",
      "dtypes: float64(1), int64(4), object(3)\n",
      "memory usage: 312.6+ KB\n"
     ]
    }
   ],
   "source": [
    "df.info()"
   ]
  },
  {
   "cell_type": "code",
   "execution_count": 23,
   "id": "0b30ed7d",
   "metadata": {},
   "outputs": [],
   "source": [
    "def create_bins_production(data):\n",
    "    if data < 2023:\n",
    "        return 'used'\n",
    "    return 'new'"
   ]
  },
  {
   "cell_type": "code",
   "execution_count": 24,
   "id": "1009dcb3",
   "metadata": {
    "scrolled": true
   },
   "outputs": [
    {
     "name": "stdout",
     "output_type": "stream",
     "text": [
      "68.8 ms ± 1.44 ms per loop (mean ± std. dev. of 7 runs, 10 loops each)\n"
     ]
    }
   ],
   "source": [
    "%%timeit\n",
    "df['production_bins'] = df.apply(\n",
    "    lambda x: create_bins_production(x['production_date']), axis=1)"
   ]
  },
  {
   "cell_type": "code",
   "execution_count": 25,
   "id": "bc85f2a7",
   "metadata": {},
   "outputs": [
    {
     "name": "stdout",
     "output_type": "stream",
     "text": [
      "3.39 ms ± 211 µs per loop (mean ± std. dev. of 7 runs, 100 loops each)\n"
     ]
    }
   ],
   "source": [
    "%%timeit\n",
    "vector_create_bins_production = np.vectorize(create_bins_production)\n",
    "df['production_bins'] = vector_create_bins_production(df['production_date'])"
   ]
  },
  {
   "cell_type": "code",
   "execution_count": 26,
   "id": "8fd42339",
   "metadata": {},
   "outputs": [
    {
     "name": "stdout",
     "output_type": "stream",
     "text": [
      "1.52 ms ± 107 µs per loop (mean ± std. dev. of 7 runs, 1000 loops each)\n"
     ]
    }
   ],
   "source": [
    "%%timeit\n",
    "df['production_bins'] = pd.cut(df['production_date'],\n",
    "                               bins=[0, 2022, 2023],\n",
    "                               labels=['used', 'new'])"
   ]
  },
  {
   "cell_type": "code",
   "execution_count": 27,
   "id": "ad2a5c42",
   "metadata": {},
   "outputs": [
    {
     "data": {
      "text/html": [
       "<div>\n",
       "<style scoped>\n",
       "    .dataframe tbody tr th:only-of-type {\n",
       "        vertical-align: middle;\n",
       "    }\n",
       "\n",
       "    .dataframe tbody tr th {\n",
       "        vertical-align: top;\n",
       "    }\n",
       "\n",
       "    .dataframe thead th {\n",
       "        text-align: right;\n",
       "    }\n",
       "</style>\n",
       "<table border=\"1\" class=\"dataframe\">\n",
       "  <thead>\n",
       "    <tr style=\"text-align: right;\">\n",
       "      <th></th>\n",
       "      <th>type</th>\n",
       "      <th>mean</th>\n",
       "    </tr>\n",
       "  </thead>\n",
       "  <tbody>\n",
       "    <tr>\n",
       "      <th>0</th>\n",
       "      <td>apply</td>\n",
       "      <td>68.80</td>\n",
       "    </tr>\n",
       "    <tr>\n",
       "      <th>1</th>\n",
       "      <td>vector_numpy</td>\n",
       "      <td>3.39</td>\n",
       "    </tr>\n",
       "    <tr>\n",
       "      <th>2</th>\n",
       "      <td>pandas_cut</td>\n",
       "      <td>1.52</td>\n",
       "    </tr>\n",
       "  </tbody>\n",
       "</table>\n",
       "</div>"
      ],
      "text/plain": [
       "           type   mean\n",
       "0         apply  68.80\n",
       "1  vector_numpy   3.39\n",
       "2    pandas_cut   1.52"
      ]
     },
     "execution_count": 27,
     "metadata": {},
     "output_type": "execute_result"
    }
   ],
   "source": [
    "result_time = pd.DataFrame({\n",
    "    'type': ['apply', 'vector_numpy', 'pandas_cut'],\n",
    "    'mean': [68.8, 3.39, 1.52]\n",
    "})\n",
    "result_time"
   ]
  },
  {
   "cell_type": "code",
   "execution_count": 28,
   "id": "5387f84e",
   "metadata": {},
   "outputs": [
    {
     "data": {
      "image/png": "[encoded data removed]",
      "text/plain": [
       "<Figure size 1080x360 with 1 Axes>"
      ]
     },
     "metadata": {
      "needs_background": "dark"
     },
     "output_type": "display_data"
    }
   ],
   "source": [
    "plt.figure(figsize=(15, 5))\n",
    "sns.barplot(data=result_time, y='type', x='mean', palette='viridis');"
   ]
  },
  {
   "cell_type": "code",
   "execution_count": 29,
   "id": "b89d7f8e",
   "metadata": {},
   "outputs": [],
   "source": [
    "def apply_check(df):\n",
    "    return df.apply(lambda x: create_bins_production(x['production_date']),\n",
    "                    axis=1)\n",
    "\n",
    "\n",
    "def vectorize_check(df):\n",
    "    vector_create_bins_production = np.vectorize(create_bins_production)\n",
    "    return vector_create_bins_production(df['production_date'])\n",
    "\n",
    "\n",
    "def cut_check(df):\n",
    "    return pd.cut(df['production_date'],\n",
    "                  bins=[0, 2022, 2023],\n",
    "                  labels=['used', 'new'])"
   ]
  },
  {
   "cell_type": "code",
   "execution_count": 30,
   "id": "b696363f",
   "metadata": {
    "scrolled": true
   },
   "outputs": [
    {
     "data": {
      "application/vnd.jupyter.widget-view+json": {
       "model_id": "f1031c8f1504415eba84d597678af3f9",
       "version_major": 2,
       "version_minor": 0
      },
      "text/plain": [
       "Output()"
      ]
     },
     "metadata": {},
     "output_type": "display_data"
    },
    {
     "data": {
      "text/html": [
       "<pre style=\"white-space:pre;overflow-x:auto;line-height:normal;font-family:Menlo,'DejaVu Sans Mono',consolas,'Courier New',monospace\"></pre>\n"
      ],
      "text/plain": []
     },
     "metadata": {},
     "output_type": "display_data"
    },
    {
     "data": {
      "text/html": [
       "<pre style=\"white-space:pre;overflow-x:auto;line-height:normal;font-family:Menlo,'DejaVu Sans Mono',consolas,'Courier New',monospace\">\n",
       "</pre>\n"
      ],
      "text/plain": [
       "\n"
      ]
     },
     "metadata": {},
     "output_type": "display_data"
    }
   ],
   "source": [
    "kernels = [apply_check, vectorize_check, cut_check]\n",
    "\n",
    "vectorized_comparison = perfplot.bench(\n",
    "    setup=lambda n: get_dataset(n),\n",
    "    kernels=kernels,\n",
    "    labels=[str(k.__name__) for k in kernels],\n",
    "    n_range=[2**k for k in range(0, 24, 2)],\n",
    "    equality_check=None,\n",
    "    xlabel='n_rows')"
   ]
  },
  {
   "cell_type": "code",
   "execution_count": 31,
   "id": "e71f1273",
   "metadata": {},
   "outputs": [
    {
     "data": {
      "image/png": "[encoded data removed]",
      "text/plain": [
       "<Figure size 432x288 with 1 Axes>"
      ]
     },
     "metadata": {
      "needs_background": "dark"
     },
     "output_type": "display_data"
    }
   ],
   "source": [
    "vectorized_comparison.plot(logx=False, logy=False)"
   ]
  },
  {
   "cell_type": "code",
   "execution_count": 32,
   "id": "55cf1cdd",
   "metadata": {},
   "outputs": [
    {
     "data": {
      "image/png": "[encoded data removed]",
      "text/plain": [
       "<Figure size 432x288 with 1 Axes>"
      ]
     },
     "metadata": {
      "needs_background": "dark"
     },
     "output_type": "display_data"
    }
   ],
   "source": [
    "vectorized_comparison.plot(logx=True, logy=True, time_unit='s')\n",
    "plt.show()"
   ]
  },
  {
   "cell_type": "code",
   "execution_count": null,
   "id": "a917bda4",
   "metadata": {},
   "outputs": [],
   "source": []
  }
 ],
 "metadata": {
  "kernelspec": {
   "display_name": "Python 3",
   "language": "python",
   "name": "python3"
  },
  "language_info": {
   "codemirror_mode": {
    "name": "ipython",
    "version": 3
   },
   "file_extension": ".py",
   "mimetype": "text/x-python",
   "name": "python",
   "nbconvert_exporter": "python",
   "pygments_lexer": "ipython3",
   "version": "3.8.8"
  },
  "toc": {
   "base_numbering": 1,
   "nav_menu": {},
   "number_sections": true,
   "sideBar": true,
   "skip_h1_title": false,
   "title_cell": "Table of Contents",
   "title_sidebar": "Contents",
   "toc_cell": false,
   "toc_position": {},
   "toc_section_display": true,
   "toc_window_display": false
  }
 },
 "nbformat": 4,
 "nbformat_minor": 5
}
